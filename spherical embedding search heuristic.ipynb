{
 "cells": [
  {
   "cell_type": "markdown",
   "metadata": {},
   "source": [
    "## Examine cost measure heuristic induced by naive embedding of the 8-puzzle state space on the sphere $\\mathbb{S}^9$\n",
    "\n",
    "Some relevant plots to pique the interest\n",
    "\n",
    "induced heuristic with mean centering | induced heuristic with goal centering \n",
    "- | -\n",
    "![example of induced heuristic with mean centering](plt1.png \"plot 1\")|![example of induced heuristic with goal centering](plt2.png \"plot 2\")"
   ]
  },
  {
   "cell_type": "code",
   "execution_count": 3,
   "metadata": {
    "collapsed": true
   },
   "outputs": [],
   "source": [
    "import numpy as np\n",
    "\n",
    "# helper function\n",
    "def euc_dist(v1,v2):\n",
    "    \n",
    "    assert len(v1) == len(v2)\n",
    "    \n",
    "    square_diffs = [(v1[i] - v2[i])**2 for i in range(len(v1))]\n",
    "    return np.sqrt(sum(square_diffs))\n",
    "    \n",
    "def mink_dist(v1,v2):\n",
    "    \n",
    "    assert len(v1) == len(v2)\n",
    "    \n",
    "    abs_diffs = [np.abs(v1[i] - v2[i]) for i in range(len(v1))]\n",
    "    return sum(abs_diffs)"
   ]
  },
  {
   "cell_type": "markdown",
   "metadata": {},
   "source": [
    "$s$ is a generic initial state from $\\Theta$ (corresponding to a specific configuration as described in my write up) embedded into $\\mathbb{R}^{3 \\times 3} \\cong \\mathbb{R}^9$. \n",
    "\n",
    "Similarly, $g$ is the embedded goal state."
   ]
  },
  {
   "cell_type": "code",
   "execution_count": 4,
   "metadata": {},
   "outputs": [
    {
     "name": "stdout",
     "output_type": "stream",
     "text": [
      "Euclidean distance: 4.0\n",
      "Minkovsky distance: 8\n"
     ]
    }
   ],
   "source": [
    "s = np.array([0,4,2,1,3,5,6,8,7])\n",
    "g = np.array(list(range(9))) # goal state\n",
    "\n",
    "print('Euclidean distance:', euc_dist(s,g))\n",
    "print('Minkovsky distance:', mink_dist(s,g))"
   ]
  },
  {
   "cell_type": "markdown",
   "metadata": {},
   "source": [
    "### Define the sphere map $\\phi^{-1}$ which embeds Euclidean space $\\phi^{-1}:\\mathbb{R}^n \\hookrightarrow \\mathbb{S}^n$ into the $n$-sphere via stereographic projection. Define the induced metric $h_g(s)$ where $\\psi : \\Theta \\to \\mathbb {R}^n$ is the embedding of the configuration space\n",
    "$$\n",
    "h_g(s) := \\frac{1}{\\pi} \\| \\phi^{-1} \\circ \\psi (s) - \\phi^{-1} \\circ \\psi (g) \\|_{\\text{geodesic}}\n",
    "$$"
   ]
  },
  {
   "cell_type": "code",
   "execution_count": 5,
   "metadata": {
    "collapsed": true
   },
   "outputs": [],
   "source": [
    "def sphere_map(x):\n",
    "    \n",
    "    scale = 1 / (1 + euc_dist( [0]*len(x), x) ** 2)\n",
    "    \n",
    "    temp_y = [2*t for t in x]\n",
    "    temp_y += [1 - euc_dist( [0]*len(x), x) ** 2]\n",
    "    y = np.array([scale * t for t in temp_y ])\n",
    "    \n",
    "    return y\n",
    "\n",
    "def h(s, target=g): # induced metric on the sphere\n",
    "    \n",
    "    h = np.arccos( np.dot( sphere_map(s), sphere_map(target) ) ) / np.pi\n",
    "    return h\n"
   ]
  },
  {
   "cell_type": "markdown",
   "metadata": {},
   "source": [
    "We discussed that $h_g (s)$ could be defined in a different way, if we were able to enumerate and evaluate the possible states\n",
    "$$\n",
    "h_g(s) := \\frac{\\| \\phi^{-1} \\circ \\psi (s) - \\phi^{-1} \\circ \\psi (g) \\|_{\\text{geodesic}}}\n",
    "{ \\min_{s \\in \\Theta} \\| \\phi^{-1} \\circ \\psi (s) - \\phi^{-1} \\circ \\psi (g) \\|_{\\text{geodesic}} } \n",
    "$$"
   ]
  },
  {
   "cell_type": "code",
   "execution_count": 6,
   "metadata": {},
   "outputs": [
    {
     "data": {
      "text/plain": [
       "0.15128504247484439"
      ]
     },
     "execution_count": 6,
     "metadata": {},
     "output_type": "execute_result"
    }
   ],
   "source": [
    "import itertools\n",
    "all_states = list(itertools.permutations(list(range(9))))\n",
    "all_costs = [ np.arccos( np.dot( sphere_map(s), sphere_map(g) ) ) for s in all_states ]\n",
    "\n",
    "eta = max(all_costs)\n",
    "eta"
   ]
  },
  {
   "cell_type": "markdown",
   "metadata": {},
   "source": [
    "In this case we would find for $\\eta = \\min_{s \\in \\Theta} \\| \\phi^{-1} \\circ \\psi (s) - \\phi^{-1} \\circ \\psi (g) \\|_{\\text{geodesic}} = 0.15128504247484367$"
   ]
  },
  {
   "cell_type": "code",
   "execution_count": 7,
   "metadata": {},
   "outputs": [
    {
     "name": "stdout",
     "output_type": "stream",
     "text": [
      "configuration s embedded on the 9-sphere: \n",
      " [ 0.          0.03902439  0.0195122   0.0097561   0.02926829  0.04878049\n",
      "  0.05853659  0.07804878  0.06829268 -0.9902439 ] \n",
      "\n",
      "goal g embedded on the 9 sphere: \n",
      " [ 0.          0.0097561   0.0195122   0.02926829  0.03902439  0.04878049\n",
      "  0.05853659  0.06829268  0.07804878 -0.9902439 ] \n",
      "\n",
      "induced heuristic cost of s: 0.0124226375717\n"
     ]
    }
   ],
   "source": [
    "print('configuration s embedded on the 9-sphere:', \"\\n\", sphere_map(s), '\\n'*2+'goal g embedded on the 9 sphere:', '\\n', sphere_map(g), '\\n')\n",
    "\n",
    "print('induced heuristic cost of s:', h(s))"
   ]
  },
  {
   "cell_type": "markdown",
   "metadata": {},
   "source": [
    "### Evolving states towards goal\n",
    "I think it would be interesting to see how this cost evolves compared with euclidean distance, if we were to evolve the initial state to the goal state along a smooth (linearly interpolated) trajectory."
   ]
  },
  {
   "cell_type": "code",
   "execution_count": 8,
   "metadata": {
    "collapsed": true
   },
   "outputs": [],
   "source": [
    "from scipy.interpolate import interp1d\n",
    "\n",
    "def evolv_cost(s,g, scale=100):\n",
    "    \"\"\"\n",
    "    scale = granularity of the interpolation (number of generated data points)\n",
    "    note: fix to have this return the t dataset automatically\n",
    "    \"\"\"\n",
    "    \n",
    "    linfit = interp1d([0,1], np.vstack([s,g]), axis=0)\n",
    "    alpha = scale#200\n",
    "    t = np.array(list(range(alpha+1)))/alpha\n",
    "    sequence = linfit(t)\n",
    "    g = np.reshape(g, newshape=(9,1))\n",
    "    cost_sphere = np.array([ h( sequence[i:i+1][0], target = g ) for i in range(alpha+1) ])\n",
    "    cost_euclid = np.array([ euc_dist( sequence[i:i+1][0], g ) for i in range(alpha+1) ])\n",
    "\n",
    "    return cost_sphere, cost_euclid\n"
   ]
  },
  {
   "cell_type": "code",
   "execution_count": 9,
   "metadata": {},
   "outputs": [
    {
     "data": {
      "image/png": "[encoded data removed]",
      "text/plain": [
       "<matplotlib.figure.Figure at 0x18192fa3c8>"
      ]
     },
     "metadata": {},
     "output_type": "display_data"
    }
   ],
   "source": [
    "import matplotlib.pyplot as plt\n",
    "\n",
    "alpha = 100\n",
    "t = np.array(list(range(alpha+1)))/alpha\n",
    "\n",
    "cost_sphere, cost_euclid = evolv_cost(s,g, scale=alpha)\n",
    "plt.scatter(t, cost_euclid, s=1, color='red')\n",
    "\n",
    "scaling_coeff = 320 \n",
    "# empirically determined in this case. \n",
    "# used to compare cost based on euclidean heuristic vs spherical heuristic\n",
    "\n",
    "plt.scatter(t, scaling_coeff*cost_sphere, s=1, color='green')\n",
    "\n",
    "labels = ('euclidean heuristic flow','linearly scaled spherical heuristic flow')\n",
    "plt.legend(labels,loc ='best')\n",
    "\n",
    "for i in range(20):\n",
    "    plt.scatter(t, (scaling_coeff - 5*i)*cost_sphere, s=1, color='green', alpha=1-i/20)\n",
    "    \n",
    "# plt.scatter(t, cost_sphere, s=1, color='blue')\n",
    "plt.show()"
   ]
  },
  {
   "cell_type": "markdown",
   "metadata": {},
   "source": [
    "The gradient green curves indicate the spherical heuristic flow at different scalings. We can examine the difference between euclidean and spherical heuristics: \n"
   ]
  },
  {
   "cell_type": "code",
   "execution_count": 10,
   "metadata": {},
   "outputs": [
    {
     "name": "stdout",
     "output_type": "stream",
     "text": [
      "a few examples:\n",
      "for s = [0 4 2 1 3 5 6 8 7], scaling = 320 minimizes error to 0.0731690682409\n",
      "for s = [8 7 5 6 3 4 1 0 2], scaling = 292 minimizes error to 4.61657357\n"
     ]
    }
   ],
   "source": [
    "temp = []\n",
    "\n",
    "for k in range(500):\n",
    "    temp.append(euc_dist(cost_euclid, k*cost_sphere))\n",
    "\n",
    "minimizing_scaling = temp.index(min(temp))\n",
    "\n",
    "print('a few examples:' + '\\n'+ 'for s = '+ str(s) +', scaling = ' + str(minimizing_scaling) + ' minimizes error to ' + str(min(temp)[0]))\n",
    "print('for s = [8 7 5 6 3 4 1 0 2], scaling = 292 minimizes error to 4.61657357')"
   ]
  },
  {
   "cell_type": "code",
   "execution_count": 11,
   "metadata": {},
   "outputs": [
    {
     "data": {
      "image/png": "[encoded data removed]",
      "text/plain": [
       "<matplotlib.figure.Figure at 0x10e632320>"
      ]
     },
     "metadata": {},
     "output_type": "display_data"
    }
   ],
   "source": [
    "# comparison\n",
    "\n",
    "s = [8, 7, 5, 6, 3, 4, 1, 0, 2]\n",
    "\n",
    "alpha = 100\n",
    "t = np.array(list(range(alpha+1)))/alpha\n",
    "\n",
    "cost_sphere, cost_euclid = evolv_cost(s,g, scale=alpha)\n",
    "plt.scatter(t, cost_euclid, s=1, color='red')\n",
    "\n",
    "scaling_coeff = 292 \n",
    "plt.scatter(t, scaling_coeff*cost_sphere, s=1, color='black')\n",
    "\n",
    "labels = ('euclidean heuristic flow','linearly scaled spherical heuristic flow')\n",
    "plt.legend(labels,loc ='best')\n",
    "\n",
    "scaling_coeff = 323 # again empirically determined to give range in graph\n",
    "for i in range(20):\n",
    "    plt.scatter(t, (scaling_coeff - 5*i)*cost_sphere, s=1, color='green', alpha=.5*(1-i/20))\n",
    "    \n",
    "plt.show()"
   ]
  },
  {
   "cell_type": "code",
   "execution_count": 12,
   "metadata": {},
   "outputs": [
    {
     "data": {
      "image/png": "[encoded data removed]",
      "text/plain": [
       "<matplotlib.figure.Figure at 0x181d8eb2b0>"
      ]
     },
     "metadata": {},
     "output_type": "display_data"
    }
   ],
   "source": [
    "# another quick example\n",
    "\n",
    "s_prime = np.array([1,5,6,0,4,7,3,8,2])\n",
    "h(s_prime)\n",
    "cost_sphere, cost_euclid = evolv_cost(s_prime,g)\n",
    "\n",
    "plt.scatter(t, 320*np.array(cost_sphere), s=1, color='blue')\n",
    "plt.scatter(t, np.array(cost_euclid), s=1, color='red')\n",
    "plt.show()"
   ]
  },
  {
   "cell_type": "markdown",
   "metadata": {},
   "source": [
    "### Idea - randomly sample from starting locations and look at the distribution and evolution of spherical cost\n",
    "\n",
    "We randomly sample $s$ from $\\Theta$ and examine the resulting evolution of spherical cost."
   ]
  },
  {
   "cell_type": "code",
   "execution_count": 13,
   "metadata": {
    "scrolled": true
   },
   "outputs": [
    {
     "name": "stdout",
     "output_type": "stream",
     "text": [
      "discrepancy between euclidean and spherical:\n",
      "lower: -0.0485281279721 upper: 3.98617532389 mean: 1.96882359796\n",
      "\n",
      "\n",
      "statistics about linear scaling:\n",
      "lower: 288.713245111 upper: 316.397748953 mean: 302.555497032\n",
      "\n",
      "\n",
      "number of relatively 'unusual' examples: 20\n"
     ]
    }
   ],
   "source": [
    "simulation_size = 500\n",
    "\n",
    "num_examples = 20\n",
    "\n",
    "# dist_scale_coef = 320\n",
    "\n",
    "scaling_factors = []\n",
    "diffs = []\n",
    "\n",
    "selected_indices=np.random.choice(a = range(simulation_size), size = num_examples, replace=False)\n",
    "\n",
    "selected_data = []\n",
    "unusual_examples = [] # rewrite how these are selected\n",
    "\n",
    "for k in range(simulation_size):\n",
    "    \n",
    "    initial_configuration = np.random.choice( a=list(range(9)),size=(9,),replace=False )\n",
    "    \n",
    "    cost_sphere, cost_euclid = evolv_cost(initial_configuration,g)\n",
    "\n",
    "    eps = 0.00001 # avoid divide by 0 numerical issues as both euclid and spherical cost -> 0 as 'time' -> 1\n",
    "\n",
    "    _scale = np.mean( [ (cost_euclid[i] + eps) / (cost_sphere[i] + eps) for i in range(10, len(cost_sphere) - 10)] ) # 10 bumps away from edge cases where both go to 0\n",
    "    scaling_factors.append(_scale) # measures linearity of relationship between spherical and euclidean cost evolution\n",
    "    \n",
    "#     scaled_cost_sphere = dist_scale_coef * cost_sphere\n",
    "    scaled_cost_sphere = _scale * cost_sphere\n",
    "    \n",
    "    if (_scale > 315) | (_scale < 285): unusual_examples.append(initial_configuration) # interesting so save\n",
    "    \n",
    "    discrepancy = euc_dist(scaled_cost_sphere , cost_euclid)\n",
    "    diffs.append(discrepancy)\n",
    "    \n",
    "    if k in selected_indices:\n",
    "        selected_data.append([ k, [ initial_configuration, cost_sphere, cost_euclid ] ])\n",
    "\n",
    "## printing out basic info about diffs\n",
    "print('discrepancy between euclidean and spherical:')\n",
    "upper = np.mean(diffs) + 2 * np.std(diffs)\n",
    "lower = np.mean(diffs) - 2 * np.std(diffs)\n",
    "print('lower:', lower, 'upper:', upper, 'mean:', np.mean(diffs))\n",
    "\n",
    "print('\\n')\n",
    "\n",
    "## printing out basic info about scale / linearity\n",
    "print('statistics about linear scaling:')\n",
    "upper = np.mean(scaling_factors) + 2 * np.std(scaling_factors)\n",
    "lower = np.mean(scaling_factors) - 2 * np.std(scaling_factors)\n",
    "print('lower:', lower, 'upper:', upper, 'mean:', np.mean(scaling_factors))\n",
    "\n",
    "print('\\n')\n",
    "\n",
    "print(\"number of relatively 'unusual' examples:\", len(unusual_examples))"
   ]
  },
  {
   "cell_type": "markdown",
   "metadata": {},
   "source": [
    "We can examine a few randomly selected examples from the simulation. Here sphericial cost is scaled by the average scaling constant over the heuristic evolution *on each individual example's scale* (so scaling coefficient(s) vary over examples)"
   ]
  },
  {
   "cell_type": "code",
   "execution_count": 14,
   "metadata": {},
   "outputs": [
    {
     "name": "stdout",
     "output_type": "stream",
     "text": [
      "19 indexed at : 0\n"
     ]
    },
    {
     "data": {
      "image/png": "[encoded data removed]",
      "text/plain": [
       "<matplotlib.figure.Figure at 0x181db64dd8>"
      ]
     },
     "metadata": {},
     "output_type": "display_data"
    },
    {
     "name": "stdout",
     "output_type": "stream",
     "text": [
      "84 indexed at : 1\n"
     ]
    },
    {
     "data": {
      "image/png": "[encoded data removed]",
      "text/plain": [
       "<matplotlib.figure.Figure at 0x181dbf74e0>"
      ]
     },
     "metadata": {},
     "output_type": "display_data"
    }
   ],
   "source": [
    "budget = 2\n",
    "# this is the number of plots you're willing to look at\n",
    "# should put these in a plot matrix at some point\n",
    "\n",
    "for item in selected_data[0:budget]:\n",
    "    \n",
    "    _id = item[0]\n",
    "    initial_state = item[1][0]\n",
    "\n",
    "    cost_sphere = item[1][1]\n",
    "    cost_euclid = item[1][2]\n",
    "\n",
    "    print(_id , 'indexed at :', selected_data.index(item))\n",
    "    \n",
    "    \n",
    "    # examine just sphere cost\n",
    "    num_points = len(cost_sphere)\n",
    "    lin_comparison = np.linspace(cost_sphere[0], cost_sphere[num_points-1], num_points)\n",
    "    \n",
    "    alpha = 100 # default scale used in evolv_cost for previous simulation\n",
    "    t = np.array(list(range(alpha+1)))/alpha\n",
    "    \n",
    "    plt.scatter(t, lin_comparison, s=1, color='red')\n",
    "    plt.scatter(t, cost_sphere, s=1, color='blue')\n",
    "\n",
    "    # examine sphere cost vs euclidean dist\n",
    "#     plt.scatter(t, 320*np.array(cost_sphere), s=1, color='blue')\n",
    "#     plt.scatter(t, np.array(cost_euclid), s=1, color='red')\n",
    "    plt.show()"
   ]
  },
  {
   "cell_type": "code",
   "execution_count": 15,
   "metadata": {},
   "outputs": [
    {
     "name": "stdout",
     "output_type": "stream",
     "text": [
      "deviation from linearity: 0.000476848717878\n"
     ]
    },
    {
     "data": {
      "image/png": "[encoded data removed]",
      "text/plain": [
       "<matplotlib.figure.Figure at 0x10f6427b8>"
      ]
     },
     "metadata": {},
     "output_type": "display_data"
    }
   ],
   "source": [
    "# homework example\n",
    "\n",
    "s = np.array([0,4,2,1,3,5,6,8,7])\n",
    "\n",
    "alpha = 100\n",
    "cost_sphere, cost_euclid = evolv_cost(s,g, scale=alpha)\n",
    "\n",
    "t = np.array(list(range(alpha+1)))/alpha\n",
    "\n",
    "plt.scatter(t, cost_sphere, s=1, color='blue')\n",
    "lin_comparison = np.linspace(cost_sphere[0], cost_sphere[alpha], alpha+1)\n",
    "plt.scatter(t, lin_comparison, s=1, color='red')\n",
    "\n",
    "print(\"deviation from linearity:\", euc_dist(lin_comparison, cost_sphere)[0] )\n",
    "\n",
    "plt.show()"
   ]
  },
  {
   "cell_type": "code",
   "execution_count": 16,
   "metadata": {},
   "outputs": [
    {
     "data": {
      "image/png": "[encoded data removed]",
      "text/plain": [
       "<matplotlib.figure.Figure at 0x181dc67198>"
      ]
     },
     "metadata": {},
     "output_type": "display_data"
    }
   ],
   "source": [
    "# interesting configuration\n",
    "\n",
    "another_config = unusual_examples[0] \n",
    "another_config = [0, 1, 4, 5, 3, 2, 7, 6, 8] # saved from a previous sample\n",
    "\n",
    "interesting_config = selected_data[4][1][0] # from looking at plots above, selecting an interesting one\n",
    "interesting_config = [8, 7, 5, 6, 3, 4, 1, 0, 2] # saved from previous sample\n",
    "\n",
    "# plot from above config\n",
    "\n",
    "s = interesting_config\n",
    "\n",
    "alpha = 75\n",
    "cost_sphere, cost_euclid = evolv_cost(s,g, scale=alpha)\n",
    "\n",
    "# scaling\n",
    "temp = []\n",
    "for k in range(500):\n",
    "    temp.append(euc_dist(cost_euclid, k*cost_sphere))\n",
    "min_scaling = temp.index(min(temp))\n",
    "scaled_cost_sphere = min_scaling*cost_sphere\n",
    "\n",
    "t = np.array(list(range(alpha+1)))/alpha\n",
    "\n",
    "plt.scatter(t, scaled_cost_sphere, s=1, color='blue')\n",
    "lin_comparison = np.linspace(scaled_cost_sphere[0], scaled_cost_sphere[alpha], alpha+1)\n",
    "plt.scatter(t, lin_comparison, s=1, color='red')\n",
    "\n",
    "plt.scatter(t, cost_euclid, s=1, color='green')\n",
    "\n",
    "plt.show()"
   ]
  },
  {
   "cell_type": "markdown",
   "metadata": {},
   "source": [
    "## Effect of Centering \n",
    "\n",
    "i.e., examine the importance of the embedding of the state space $\\Theta$ into the sphere $\\mathbb{S}^9$ upon determining heuristic evolution."
   ]
  },
  {
   "cell_type": "code",
   "execution_count": 17,
   "metadata": {},
   "outputs": [
    {
     "name": "stdout",
     "output_type": "stream",
     "text": [
      "\n",
      "' * ' * ' * Type I centering * ' * ' * '\n",
      "\n",
      "centered s: [ 4.  3.  1.  2. -1.  0. -3. -4. -2.] \n",
      "decentered: [ 8.  7.  5.  6.  3.  4.  1.  0.  2.] \n",
      "original s: [8, 7, 5, 6, 3, 4, 1, 0, 2]\n",
      "centered g: [-4. -3. -2. -1.  0.  1.  2.  3.  4.]\n",
      "\n",
      "' * ' * ' * Type II centering * ' * ' * '\n",
      "\n",
      "centered s: [ 8  6  3  3 -1 -1 -5 -7 -6]\n",
      "centered g: [0 0 0 0 0 0 0 0 0]\n"
     ]
    }
   ],
   "source": [
    "def center(x, _type=1): # assume a state from 8-puzzle\n",
    "    \n",
    "    \"\"\"\n",
    "    centers based on x - µ (type I)\n",
    "    or based on x - g (type II) (so that g is sent to origin and hence to a pole in sphere embedding)\n",
    "    \"\"\"\n",
    "    \n",
    "#     assert type(x) == numpy.ndarray\n",
    "    \n",
    "    ## this will give same results\n",
    "    #_max = 8\n",
    "    #_min = 0\n",
    "    #center = (_max - _min) / 2 # = 4 for s in Theta\n",
    "    ##\n",
    "    \n",
    "    if _type==1: center = np.mean(x) # turns out this = 4 for s in Theta\n",
    "    if _type==2: center = g # g = global variable, goal state embedded into R^9\n",
    "\n",
    "    \n",
    "    return x - center\n",
    "\n",
    "def decenter(x,_type=1): # we might as well have a simple way to decenter based on the specific game\n",
    "    \"\"\"\n",
    "    based on the dimension of x\n",
    "    assume flat input (for the moment)\n",
    "    add capacity to decenter for diff types of centering\n",
    "    \"\"\"\n",
    "    \n",
    "    dims = x.shape\n",
    "    limit = dims[0]\n",
    "    \n",
    "    center_coeff = np.mean(range(limit))\n",
    "    \n",
    "    return x + center_coeff\n",
    "    \n",
    "\n",
    "print('\\n' + \"' * \"*3 + 'Type I centering' + \" * '\"*3 + '\\n' )\n",
    "print('centered s:', center(s), '\\ndecentered:', decenter(center(s)), '\\noriginal s:', s)\n",
    "print('centered g:',center(g))\n",
    "# print('centered configuration:',center(interesting_config))\n",
    "print('\\n' + \"' * \"*3 + 'Type II centering' + \" * '\"*3 + '\\n' )\n",
    "print('centered s:', center(s, _type=2))\n",
    "print('centered g:',center(g, _type=2))"
   ]
  },
  {
   "cell_type": "code",
   "execution_count": 18,
   "metadata": {},
   "outputs": [
    {
     "data": {
      "image/png": "[encoded data removed]",
      "text/plain": [
       "<matplotlib.figure.Figure at 0x181dd1ccf8>"
      ]
     },
     "metadata": {},
     "output_type": "display_data"
    }
   ],
   "source": [
    "# quick examples\n",
    "\n",
    "s = np.array([0, 4, 2, 1, 3, 5, 6, 8, 7])\n",
    "s = interesting_config\n",
    "centered_s = center(s)\n",
    "centered_g = center(g)\n",
    "\n",
    "alpha = 400\n",
    "\n",
    "cost, _ = evolv_cost(s,g, scale=alpha)\n",
    "centered_cost, _ = evolv_cost(centered_s,centered_g, scale=alpha)\n",
    "\n",
    "# num_points = len(cost_sphere) # just use alpha\n",
    "\n",
    "t = np.array(list(range(alpha+1)))/alpha\n",
    "\n",
    "plt.scatter(t, centered_cost, s=1, color='blue')\n",
    "lin_comparison = np.linspace(centered_cost[0], centered_cost[alpha], alpha+1)\n",
    "plt.scatter(t, lin_comparison, s=1, color='red')\n",
    "\n",
    "labels = ('centered spherical cost','linear cost evolution comparison')\n",
    "plt.legend(labels,loc ='best')\n",
    "\n",
    "\n",
    "# plt.scatter(t, np.array(cost), s=1, color='blue')\n",
    "\n",
    "\n",
    "# # fill in plot difference HORIZONTAL - only visible if nonlinear\n",
    "# fill_increment = 2\n",
    "# denseness = 3 # closer to 1 is denser\n",
    "# for i in range(1, int(alpha/denseness) - 1):\n",
    "    \n",
    "#     _index = denseness*i\n",
    "#     x = t[_index + fill_increment] # makes horiz lines start within line boundaries\n",
    "#     y = lin_comparison[_index]\n",
    "    \n",
    "#     # get x where horizontal line passes centered_cost:\n",
    "#     ##\n",
    "#     k = _index\n",
    "#     while centered_cost[k] > y:\n",
    "#         k+=fill_increment\n",
    "#     ##\n",
    "#     new_x = t[k-fill_increment] \n",
    "#     plt.plot( [x,new_x],[y,y], linestyle='dashed', color='orange' )\n",
    "\n",
    "\n",
    "\n",
    "# fill in plot difference VERTICAL - only visible if nonlinear\n",
    "denseness = 3 # closer to 1 is denser\n",
    "for i in range(1, int(alpha/denseness) - 1):\n",
    "    \n",
    "    _index = denseness*i\n",
    "    x = t[_index] \n",
    "    y = lin_comparison[_index]\n",
    "    new_y = centered_cost[_index]\n",
    "    \n",
    "    plt.plot( [x,x],[y,new_y], linestyle='dashed', color='orange' )\n",
    "\n",
    "\n",
    "plt.xlabel(\"time 0:1\")\n",
    "plt.ylabel(\"spherical heuristic cost\")\n",
    "\n",
    "# save to display later\n",
    "plt.savefig('plt1.png', dpi=500)\n",
    "\n",
    "plt.show()\n",
    "plt.close()  "
   ]
  },
  {
   "cell_type": "markdown",
   "metadata": {},
   "source": [
    "### Explanation\n",
    "\n",
    "After centering, we see that evolving the state now has the effect of potentially tracing out a path over the unit sphere, however depending on the configuration, it's possible that moving linearly towards the goal might begin looping the corresponding spherical arc indirectly –– here we see the image of embedded state in the sphere at first moves indirectly, even away from the image of the goal, until rounding some portion (probably crosing an axis to a different 'octant' allows the curve to then approach the goal more directly.\n",
    "\n",
    "\n",
    "Let's repeat the above example but with 'goal-centric' centering\n",
    "### Goal Centering"
   ]
  },
  {
   "cell_type": "code",
   "execution_count": 19,
   "metadata": {},
   "outputs": [
    {
     "data": {
      "image/png": "[encoded data removed]",
      "text/plain": [
       "<matplotlib.figure.Figure at 0x181dd3f0b8>"
      ]
     },
     "metadata": {},
     "output_type": "display_data"
    }
   ],
   "source": [
    "# quick example\n",
    "\n",
    "s = np.array([0, 4, 2, 1, 3, 5, 6, 8, 7])\n",
    "s = interesting_config\n",
    "centered_s = center(s, _type=2)\n",
    "centered_g = center(g, _type=2)\n",
    "\n",
    "alpha = 400\n",
    "\n",
    "cost, _ = evolv_cost(s,g, scale=alpha)\n",
    "centered_cost, _ = evolv_cost(centered_s,centered_g, scale=alpha)\n",
    "\n",
    "# num_points = len(cost_sphere) # just use alpha\n",
    "\n",
    "t = np.array(list(range(alpha+1)))/alpha\n",
    "\n",
    "plt.scatter(t, centered_cost, s=1, color='blue')\n",
    "lin_comparison = np.linspace(centered_cost[0], centered_cost[alpha], alpha+1)\n",
    "plt.scatter(t, lin_comparison, s=1, color='red')\n",
    "\n",
    "\n",
    "labels = ('centered spherical cost','linear cost evolution comparison')\n",
    "plt.legend(labels,loc ='best')\n",
    "\n",
    "\n",
    "# fill in plot difference VERTICAL - only visible if nonlinear\n",
    "denseness = 3 # closer to 1 is denser\n",
    "for i in range(1, int(alpha/denseness)):\n",
    "    \n",
    "    _index = denseness*i\n",
    "    x = t[_index] \n",
    "    y = lin_comparison[_index]\n",
    "    new_y = centered_cost[_index]\n",
    "    \n",
    "    plt.plot( [x,x],[y,new_y], linestyle='dashed', color='orange' )\n",
    "\n",
    "\n",
    "plt.xlabel(\"time 0:1\")\n",
    "plt.ylabel(\"spherical heuristic cost\")\n",
    "\n",
    "# save to display later\n",
    "plt.savefig('plt2.png', dpi=500)\n",
    "\n",
    "plt.show()\n",
    "plt.close()  "
   ]
  },
  {
   "cell_type": "markdown",
   "metadata": {},
   "source": [
    "Here we see somewhat contrasting result –– by centering with respect to the goal point, this has the effect of mapping the embedded goal state onto one of the poles of the sphere. potentially then, the image of the path from state to goal mapped onto the sphere may be stretched over a greater surface area based on distortion from mapping euclidean space onto the upper hemisphere of $\\mathbb{S}^9$.\n",
    "\n",
    "## Comparison of Centering's effects on heuristic flow, and distribution of 'best linear error' \n",
    "\n",
    "Return to the case of the embedded state $\\psi(s) = [8, 7, 5, 6, 3, 4, 1, 0, 2]$"
   ]
  },
  {
   "cell_type": "code",
   "execution_count": 20,
   "metadata": {
    "collapsed": true
   },
   "outputs": [],
   "source": [
    "# states\n",
    "s = np.array([8, 7, 5, 6, 3, 4, 1, 0, 2])\n",
    "g = np.array(list(range(9)))\n",
    "\n",
    "# centering\n",
    "Zs_1 = center(s, _type=1)\n",
    "Zs_2 = center(s, _type=2)\n",
    "Zg_1 = center(g, _type=1)\n",
    "Zg_2 = center(g, _type=2)\n",
    "\n",
    "\n",
    "alpha = 400\n",
    "t = np.array(list(range(alpha+1)))/alpha\n",
    "\n",
    "\n",
    "cost_sphere, cost_euclid = evolv_cost(s,g, scale=alpha)\n",
    "z1_sphere, z1_euclid = evolv_cost(Zs_1,Zg_1, scale=alpha)\n",
    "z2_sphere, z2_euclid = evolv_cost(Zs_2,Zg_2, scale=alpha)\n",
    "\n",
    "# scale factor\n",
    "temp = []\n",
    "for k in range(1,600):\n",
    "    temp.append([euc_dist(cost_euclid, k*cost_sphere), \n",
    "                 euc_dist(z1_euclid, k*z1_sphere), \n",
    "                 euc_dist(z2_euclid, k*z2_sphere)])\n",
    "\n",
    "min_scaling_coeff = [ temp.index(min(temp, key = lambda tup: tup[i])) for i in range(3) ]\n",
    "min_scaling_coeff\n",
    "\n",
    "sphere_data = [cost_sphere, z1_sphere, z2_sphere]\n",
    "euclid_data = [cost_euclid, z1_euclid, z2_euclid]"
   ]
  },
  {
   "cell_type": "code",
   "execution_count": 21,
   "metadata": {
    "collapsed": true
   },
   "outputs": [],
   "source": [
    "# # test\n",
    "# i=0\n",
    "# min_scaling_coeff[i]\n",
    "\n",
    "# for j in range(1,400):\n",
    "#     if euc_dist(sphere_data[i] * j , euclid_data[i]) < 10: print(j)\n",
    "    \n",
    "# print(min_scaling_coeff[i])"
   ]
  },
  {
   "cell_type": "code",
   "execution_count": 22,
   "metadata": {},
   "outputs": [
    {
     "data": {
      "image/png": "[encoded data removed]",
      "text/plain": [
       "<matplotlib.figure.Figure at 0x181a595198>"
      ]
     },
     "metadata": {},
     "output_type": "display_data"
    }
   ],
   "source": [
    "\n",
    "for i in range(3):\n",
    "    alpha_i = 1 - i/3\n",
    "    plt.scatter(t, min_scaling_coeff[i]*sphere_data[i], s=1, color='blue', alpha = alpha_i)\n",
    "    lin_comparison = np.linspace(min_scaling_coeff[i]*sphere_data[i][0], min_scaling_coeff[i]*sphere_data[i][alpha], alpha+1)\n",
    "    plt.scatter(t, lin_comparison, s=1, color='red', alpha = alpha_i)\n",
    "    plt.scatter(t, euclid_data[i], s=1, color='green', alpha = alpha_i)\n",
    "\n",
    "\n",
    "\n",
    "# labels = ('centered spherical cost','linear cost evolution comparison')\n",
    "# plt.legend(labels,loc ='best')\n",
    "\n",
    "\n",
    "# denseness = 3 # closer to 1 is denser\n",
    "# for i in range(1, int(alpha/denseness)):\n",
    "    \n",
    "#     _index = denseness*i\n",
    "#     x = t[_index] \n",
    "#     y = lin_comparison[_index]\n",
    "#     new_y = centered_cost[_index]\n",
    "    \n",
    "#     plt.plot( [x,x],[y,new_y], linestyle='dashed', color='orange' )\n",
    "\n",
    "\n",
    "plt.xlabel(\"time 0:1\")\n",
    "plt.ylabel(\"spherical heuristic cost\")\n",
    "\n",
    "# # save to display later\n",
    "# plt.savefig('plt2.png', dpi=500)\n",
    "\n",
    "plt.show()\n",
    "plt.close()  "
   ]
  },
  {
   "cell_type": "markdown",
   "metadata": {},
   "source": [
    "Note the centering transformations, which are isometries, leave the euclidean flow unaffected (there is only a signle green plot of the euclidean flow)"
   ]
  },
  {
   "cell_type": "code",
   "execution_count": 23,
   "metadata": {},
   "outputs": [
    {
     "data": {
      "text/plain": [
       "52.951945288785367"
      ]
     },
     "execution_count": 23,
     "metadata": {},
     "output_type": "execute_result"
    }
   ],
   "source": [
    "np.mean( [euc_dist( min_scaling_coeff[i]*sphere_data[i] , euclid_data[i] ) for i in range(3)] )"
   ]
  },
  {
   "cell_type": "code",
   "execution_count": 24,
   "metadata": {
    "collapsed": true
   },
   "outputs": [],
   "source": [
    "# distribution of errors between scaled spherical heuristic and euclidean heuristic flows\n"
   ]
  },
  {
   "cell_type": "code",
   "execution_count": 25,
   "metadata": {},
   "outputs": [
    {
     "name": "stdout",
     "output_type": "stream",
     "text": [
      "discrepancy between euclidean and spherical:\n",
      "lower: 17.9653903707 upper: 43.9534014411 mean: 30.9593959059\n"
     ]
    }
   ],
   "source": [
    "# comparison of spherical heuristic (centered vs non-centered)\n",
    "\n",
    "simulation_size = 500\n",
    "diffs = []\n",
    "\n",
    "for k in range(simulation_size):\n",
    "    \n",
    "    initial_configuration = np.random.choice( a=list(range(9)),size=(9,),replace=False )\n",
    "    cost_sphere, cost_euclid = evolv_cost(initial_configuration,g) # scale=alpha\n",
    "\n",
    "    temp = []\n",
    "    for k in range(150,400):\n",
    "        temp.append(euc_dist(cost_euclid, k*cost_sphere))\n",
    "    minimizing_scaling = temp.index(min(temp))\n",
    "    \n",
    "    scaled_cost_sphere = minimizing_scaling * cost_sphere\n",
    "    discrepancy = euc_dist(scaled_cost_sphere , cost_euclid)\n",
    "    diffs.append(discrepancy)\n",
    "    \n",
    "\n",
    "## printing out basic info about diffs\n",
    "print('discrepancy between euclidean and spherical:')\n",
    "upper = np.mean(diffs) + 2 * np.std(diffs)\n",
    "lower = np.mean(diffs) - 2 * np.std(diffs)\n",
    "print('lower:', lower, 'upper:', upper, 'mean:', np.mean(diffs))"
   ]
  },
  {
   "cell_type": "markdown",
   "metadata": {},
   "source": [
    "### Estimate pdf and cdf of distribution of minimum-error between euclidean and spherical  heuristic evolution"
   ]
  },
  {
   "cell_type": "code",
   "execution_count": 26,
   "metadata": {},
   "outputs": [
    {
     "data": {
      "image/png": "[encoded data removed]",
      "text/plain": [
       "<matplotlib.figure.Figure at 0x181a5a5eb8>"
      ]
     },
     "metadata": {},
     "output_type": "display_data"
    }
   ],
   "source": [
    "from scipy.stats import gaussian_kde\n",
    "\n",
    "# pdf\n",
    "\n",
    "\n",
    "diffs_ = [ x[0] for x in diffs ] # strip dataset to list [...] form\n",
    "\n",
    "max_val = 60\n",
    "granularity = 20\n",
    "num_data = max_val*granularity\n",
    "x_range = np.array(range(num_data)) / granularity\n",
    "\n",
    "kde = gaussian_kde(diffs_)\n",
    "pdf = kde.pdf\n",
    "plt.hist(diffs_, bins = 25, density=True)\n",
    "plt.plot(x_range, pdf(x_range))\n",
    "\n",
    "plt.show()"
   ]
  },
  {
   "cell_type": "code",
   "execution_count": 27,
   "metadata": {},
   "outputs": [
    {
     "name": "stdout",
     "output_type": "stream",
     "text": [
      "37.084402232008976% lie within [27.7108945221, 34.2078972897\n"
     ]
    }
   ],
   "source": [
    "margin = 0.5 * np.std(diffs_)\n",
    "low_bounds = np.mean(diffs_) - margin\n",
    "high_bounds = np.mean(diffs_) + margin\n",
    "maxpts = 100\n",
    "\n",
    "interval_portion = kde.integrate_box(low_bounds=low_bounds, high_bounds=high_bounds, maxpts=maxpts)\n",
    "\n",
    "print( str(100*interval_portion) + '% lie within [' + str(low_bounds) + ', ' + str(high_bounds)) "
   ]
  },
  {
   "cell_type": "code",
   "execution_count": 29,
   "metadata": {},
   "outputs": [
    {
     "data": {
      "image/png": "[encoded data removed]",
      "text/plain": [
       "<matplotlib.figure.Figure at 0x181e037ba8>"
      ]
     },
     "metadata": {},
     "output_type": "display_data"
    }
   ],
   "source": [
    "# cdf\n",
    "\n",
    "low_bounds = np.zeros(shape=(num_points,))\n",
    "high_bounds = np.array(range(num_points))/granularity\n",
    "maxpts = 100*granularity\n",
    "\n",
    "max_inpt = 60\n",
    "granularity = 100\n",
    "num_points = max_inpt * granularity\n",
    "\n",
    "cdf = []\n",
    "\n",
    "for i in range(num_points):   \n",
    "    cdf.append(kde.integrate_box(low_bounds=low_bounds[i], high_bounds=high_bounds[i], maxpts=maxpts))\n",
    "\n",
    "\n",
    "plt.plot(high_bounds, cdf)\n",
    "plt.show()"
   ]
  },
  {
   "cell_type": "markdown",
   "metadata": {},
   "source": [
    "# Greedy Search\n",
    "\n",
    "### A more realistic measure\n",
    "\n",
    "One issue with the comparisons carried out before is that linearly evolving states towards the goal is inconsistent with the constraints imposed on the game. I construct a method for evolving states only through allowable manuevers below, to make it more realistic. "
   ]
  },
  {
   "cell_type": "code",
   "execution_count": 30,
   "metadata": {
    "collapsed": true
   },
   "outputs": [],
   "source": [
    "### make it more realistic...\n",
    "\n",
    "def state(s):\n",
    "    \"\"\"\n",
    "    This creates a 2d array representation of the states (visual clarity)\n",
    "    These representations are used to feed into the move_map generator for finding allowable moves \n",
    "    (again, this form used to reinforce intuition)\n",
    "    \"\"\"\n",
    "    \n",
    "    dim = np.sqrt(s.shape[0])\n",
    "    assert dim == int(dim) == 3 # it's a square number. for my problem should be 3\n",
    "        \n",
    "    temp_s = np.reshape(s, newshape=(int(dim),int(dim)) )\n",
    "    return temp_s\n",
    "\n",
    "def move_map(s, state_cache, debug_flag = False):\n",
    "    \"\"\"\n",
    "    takes in a state s. \n",
    "    finds allowable moves from s based on:\n",
    "        swaps coordinates but only those that are adjacent to '0'\n",
    "    state_cache - to remove previous state from generated list\n",
    "    \"\"\"\n",
    "    \n",
    "    assert s.shape == (3,3) # check it's in an allowable form. This is the only part hard-coded to the '8-puzzle' space\n",
    "    zero_index = np.where(s == 0)\n",
    "    zero_index = np.reshape(zero_index, newshape=(1,2))[0] # so that zero_index = [i,j] without array gunk\n",
    "    \n",
    "    # find possible moves\n",
    "    i = zero_index[0]\n",
    "    j = zero_index[1]\n",
    "\n",
    "\n",
    "    pos_j = [j-1, j, j+1]\n",
    "    pos_i = [i-1, i, i+1]\n",
    " \n",
    "    \n",
    "    ##   o   X  o\n",
    "    ##   X  ij  X\n",
    "    ##   o   X  o\n",
    "    ##\n",
    "    ##  Allowed moves (center is current location)\n",
    "    ##  Note all indices below sum to 1 mod 2.\n",
    "        \n",
    "#     pos_indices = np.array( \n",
    "#         [[pos_i[0] , pos_j[1]]] + [[pos_i[1] , pos_j[k]] for k in [0, 2]] + [[pos_i[2] , pos_j[1]]]\n",
    "#     ) \n",
    "    pos_indices = [[pos_i[0] , pos_j[1]]] + [[pos_i[1] , pos_j[k]] for k in [0, 2]] + [[pos_i[2] , pos_j[1]]]\n",
    "    \n",
    "    \n",
    "    pos_indices = [ z for z in pos_indices if (z[0] >= 0) & (z[1] >= 0) & (z[0] < 3) & (z[1] < 3) ] # assume dim 3 x 3\n",
    "    \n",
    "    # state_cache[-1] = current state\n",
    "    if len(state_cache) < 2: # first round\n",
    "        move_pairs = [[zero_index , index] for index in pos_indices]\n",
    "        \n",
    "        if debug_flag: print('first round, current options:', move_pairs)\n",
    "\n",
    "    else: # not first round\n",
    "\n",
    "        previous_zero_index = [x[0] for x in np.where(state_cache[-2] == 0)] \n",
    "        move_pairs = [[zero_index , index] for index in pos_indices if index != previous_zero_index]\n",
    "\n",
    "        if debug_flag: \n",
    "            print('previous states:', state_cache[-3:])\n",
    "            print('prev zero:', previous_zero_index)\n",
    "            print('current options:', move_pairs)\n",
    "    \n",
    "    return move_pairs\n",
    "\n",
    "def evaluate_moves(s,move_pairs, h):\n",
    "    \"\"\"\n",
    "    s = current state (in square form = output of state(s))\n",
    "    move pairs = set of possible moves { [current, other1], [current, other2], ... }\n",
    "    h = heuristic for evaluating moves\n",
    "    \"\"\"\n",
    "    \n",
    "    init_state = np.copy(s)\n",
    "    \n",
    "    local_costs = []\n",
    "    \n",
    "    for pair in move_pairs:\n",
    "                \n",
    "        s = init_state # make sure to reset s after changing\n",
    "\n",
    "        \n",
    "        init_coord = pair[0]\n",
    "        next_coord = pair[1]\n",
    "        \n",
    "        start_tup = init_coord[0],init_coord[1]\n",
    "        destination_tup = next_coord[0],next_coord[1]\n",
    "\n",
    "\n",
    "        start = s[start_tup]\n",
    "        target = s[destination_tup]\n",
    "        \n",
    "        # swap\n",
    "        s[destination_tup] = start\n",
    "        s[start_tup] = target\n",
    "    \n",
    "        \n",
    "        flattened_s = s.flatten()        \n",
    "        cost = h(flattened_s)\n",
    "        \n",
    "        local_costs.append(cost)\n",
    "            \n",
    "            \n",
    "    s = init_state\n",
    "    \n",
    "    return local_costs\n",
    "    \n",
    "def select_move(s, move_pairs, local_costs, cost_cache, state_cache, debug_flag = False):\n",
    "    \"\"\"\n",
    "    perform move\n",
    "    s = current state\n",
    "    state_cache = list of previous states \n",
    "        ensure you don't select the state you were in during the previous time step\n",
    "        add updated state to cache\n",
    "    .\n",
    "    .\n",
    "    .\n",
    "    \"\"\"\n",
    "    \n",
    "    next_state = np.copy(s) #before applying selected move\n",
    "    \n",
    "    min_index = local_costs.index(min(local_costs))\n",
    "    move_cost = local_costs[min_index]\n",
    "    cost_cache.append(move_cost)\n",
    "    move = move_pairs[min_index]\n",
    "    \n",
    "    if debug_flag: print(\"selected move:\", move)\n",
    "    \n",
    "    # move\n",
    "    init_coord = move[0]\n",
    "    next_coord = move[1]\n",
    "\n",
    "    start_tup = init_coord[0],init_coord[1]\n",
    "    destination_tup = next_coord[0],next_coord[1]\n",
    "\n",
    "\n",
    "    start = next_state[start_tup]\n",
    "    target = next_state[destination_tup]\n",
    "\n",
    "    # swap\n",
    "    next_state[destination_tup] = start\n",
    "    next_state[start_tup] = target\n",
    "    \n",
    "    if debug_flag: print('state after move performed:', next_state)\n",
    "\n",
    "    state_cache.append(next_state)\n",
    "    \n",
    "    return next_state, cost_cache, state_cache\n",
    "    \n",
    "    "
   ]
  },
  {
   "cell_type": "code",
   "execution_count": 31,
   "metadata": {},
   "outputs": [
    {
     "name": "stdout",
     "output_type": "stream",
     "text": [
      "initial state:\n",
      " [[8 7 5]\n",
      " [6 3 4]\n",
      " [1 0 2]]\n",
      "next state:\n",
      " [[8 7 5]\n",
      " [6 0 4]\n",
      " [1 3 2]]\n",
      "next state:\n",
      " [[8 7 5]\n",
      " [6 4 0]\n",
      " [1 3 2]]\n",
      "next state:\n",
      " [[8 7 5]\n",
      " [6 4 2]\n",
      " [1 3 0]]\n"
     ]
    }
   ],
   "source": [
    "# example troubleshooting code (debug_flag default off)\n",
    "\n",
    "cost_cache = []\n",
    "temp_s = state(s)\n",
    "state_cache = [temp_s]\n",
    "\n",
    "print('initial state:\\n', temp_s)\n",
    "\n",
    "for i in range(3):\n",
    "\n",
    "    temp = move_map(temp_s, state_cache)\n",
    "    temp\n",
    "    costs = evaluate_moves(temp_s, temp, h)\n",
    "# costs\n",
    "    temp_s, cost_cache, state_cache = select_move(temp_s, temp, costs, cost_cache, state_cache)\n",
    "    print('next state:\\n', temp_s)\n"
   ]
  },
  {
   "cell_type": "code",
   "execution_count": 44,
   "metadata": {},
   "outputs": [],
   "source": [
    "## THOUGHTS - -USE CENTERING and WRITE UPDATE FUNCTION\n",
    "\n",
    "# goal state is g\n",
    "\n",
    "def evolve_game(s, h, max_budget, centered = True):\n",
    "    \n",
    "    goal = g\n",
    "    \n",
    "    # read in state\n",
    "    if centered: temp_s , goal = state(center(s)) , state(center(goal))\n",
    "    else: temp_s = state(s)\n",
    "\n",
    "    state_cache = [s]\n",
    "    cost_cache = []\n",
    "    \n",
    "    count = 1\n",
    "\n",
    "    print('initial \\n' , temp_s)\n",
    "    cost_decreasing = True #initialize to true to include filter\n",
    "\n",
    "#     while cost_decreasing & (count < max_budget): # could have it go till cost_cache is not decreasing\n",
    "   \n",
    "    while (temp_s != goal)&(count < max_budget): # could have it go till cost_cache is not decreasing\n",
    "\n",
    "        temp = move_map(temp_s, state_cache)\n",
    "    #     print(temp)\n",
    "        costs = evaluate_moves(temp_s, temp, h)\n",
    "        temp_s, cost_cache, state_cache = select_move(temp_s, temp, costs, cost_cache, state_cache)\n",
    "        \n",
    "#         print(temp_s.flatten()) # debug\n",
    "        \n",
    "        count+=1\n",
    "        \n",
    "#         if count > 2:\n",
    "#             cost_decreasing = cost_cache[-1] < cost_cache[-2]\n",
    "\n",
    "\n",
    "###\n",
    "###\n",
    "###\n",
    "\n",
    "    print('final \\n', temp_s)\n",
    "    \n",
    "    x = list(range(len(cost_cache)))\n",
    "    num_data = len(x)\n",
    "    plt.scatter([k/(len(cost_cache)-1) for k in x[0:num_data-1]], y=cost_cache[0:num_data-1])\n",
    "\n",
    "    plt.xlabel(\"time 0:1\")\n",
    "    plt.ylabel(\"spherical heuristic evolution\")\n",
    "\n",
    "    plt.show()\n",
    "    \n",
    "#     print(cost_cache)\n",
    "    \n",
    "    temp_s = temp_s.flatten()    \n",
    "    if centered: temp_s = decenter(temp_s)\n",
    "\n",
    "    return temp_s\n"
   ]
  },
  {
   "cell_type": "code",
   "execution_count": 47,
   "metadata": {},
   "outputs": [
    {
     "name": "stdout",
     "output_type": "stream",
     "text": [
      "initial \n",
      " [[0 2 4]\n",
      " [6 8 1]\n",
      " [3 5 7]]\n",
      "final \n",
      " [[6 4 0]\n",
      " [1 2 3]\n",
      " [5 7 8]]\n"
     ]
    },
    {
     "name": "stderr",
     "output_type": "stream",
     "text": [
      "/anaconda3/lib/python3.6/site-packages/ipykernel_launcher.py:23: DeprecationWarning: elementwise != comparison failed; this will raise an error in the future.\n"
     ]
    },
    {
     "data": {
      "image/png": "[encoded data removed]",
      "text/plain": [
       "<matplotlib.figure.Figure at 0x181dc07d30>"
      ]
     },
     "metadata": {},
     "output_type": "display_data"
    },
    {
     "data": {
      "text/plain": [
       "array([6, 4, 0, 1, 2, 3, 5, 7, 8])"
      ]
     },
     "execution_count": 47,
     "metadata": {},
     "output_type": "execute_result"
    }
   ],
   "source": [
    "s = np.array([0,2,4,6,8,1,3,5,7])\n",
    "\n",
    "def h_euc(s): # compute heuristic cost using euclidean distance\n",
    "    \n",
    "    assert len(s) == len(g)\n",
    "    \n",
    "    square_diffs = [(s[i] - g[i])**2 for i in range(len(s))]\n",
    "    return np.sqrt(sum(square_diffs))\n",
    "\n",
    "def h_mink(s): # compute heuristic cost using euclidean distance\n",
    "    \n",
    "    assert len(s) == len(g)\n",
    "    \n",
    "    mink_diffs = [abs(s[i] - g[i]) for i in range(len(s))]\n",
    "    return sum(mink_diffs)\n",
    "\n",
    "# evolve_game(s=s, h=h_euc, centered=False, max_budget=20)\n",
    "evolve_game(s=s, h=h, centered=False, max_budget=75)\n",
    "# evolve_game(s=s, h=h_mink, max_budget=10, centering=False)"
   ]
  },
  {
   "cell_type": "markdown",
   "metadata": {
    "collapsed": true
   },
   "source": [
    "Obviously the initial Greedy optimal path approach needs some iteration to avoid running into loops."
   ]
  },
  {
   "cell_type": "code",
   "execution_count": null,
   "metadata": {},
   "outputs": [],
   "source": [
    "cost_cache = []\n",
    "s = np.array([0,2,4,6,8,1,3,5,7])\n",
    "\n",
    "temp_s = state(s)\n",
    "print('INITIAL STATE:\\n', temp_s)\n",
    "temp = move_map(temp_s)\n",
    "costs = evaluate_moves(temp_s, temp, h)\n",
    "print('MOVES:', temp[0][0] , ' to ', [x[1] for x in temp])\n",
    "print('COSTS:', costs)\n",
    "temp_s, cost_cache = select_move(temp_s, temp, costs, cost_cache)\n",
    "\n",
    "\n",
    "\n",
    "###\n",
    "\n",
    "print('NEXT STATE:\\n', temp_s)\n",
    "temp = move_map(temp_s)\n",
    "costs = evaluate_moves(temp_s, temp, h)\n",
    "print('MOVES:', temp[0][0] , ' to ', [x[1] for x in temp])\n",
    "print('COSTS:', costs)\n",
    "temp_s, cost_cache = select_move(temp_s, temp, costs, cost_cache)\n",
    "\n",
    "###\n",
    "\n",
    "print('NEXT STATE:\\n', temp_s)\n",
    "temp = move_map(temp_s)\n",
    "costs = evaluate_moves(temp_s, temp, h)\n",
    "print('MOVES:', temp[0][0] , ' to ', [x[1] for x in temp])\n",
    "print('COSTS:', costs)\n",
    "temp_s, cost_cache = select_move(temp_s, temp, costs, cost_cache)"
   ]
  },
  {
   "cell_type": "code",
   "execution_count": 184,
   "metadata": {},
   "outputs": [
    {
     "data": {
      "text/plain": [
       "0"
      ]
     },
     "execution_count": 184,
     "metadata": {},
     "output_type": "execute_result"
    }
   ],
   "source": [
    "temp_s[(0,1)]"
   ]
  },
  {
   "cell_type": "code",
   "execution_count": 146,
   "metadata": {},
   "outputs": [
    {
     "data": {
      "text/plain": [
       "array([[6, 0, 4],\n",
       "       [2, 8, 1],\n",
       "       [3, 5, 7]])"
      ]
     },
     "execution_count": 146,
     "metadata": {},
     "output_type": "execute_result"
    }
   ],
   "source": [
    "temp_s"
   ]
  },
  {
   "cell_type": "code",
   "execution_count": null,
   "metadata": {
    "collapsed": true
   },
   "outputs": [],
   "source": []
  }
 ],
 "metadata": {
  "kernelspec": {
   "display_name": "Python 3",
   "language": "python",
   "name": "python3"
  },
  "language_info": {
   "codemirror_mode": {
    "name": "ipython",
    "version": 3
   },
   "file_extension": ".py",
   "mimetype": "text/x-python",
   "name": "python",
   "nbconvert_exporter": "python",
   "pygments_lexer": "ipython3",
   "version": "3.6.3"
  }
 },
 "nbformat": 4,
 "nbformat_minor": 2
}
